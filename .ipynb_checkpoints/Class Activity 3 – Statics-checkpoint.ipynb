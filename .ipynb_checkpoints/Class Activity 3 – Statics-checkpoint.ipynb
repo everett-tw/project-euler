{
 "cells": [
  {
   "cell_type": "code",
   "execution_count": 1,
   "metadata": {},
   "outputs": [],
   "source": [
    "import numpy as np\n",
    "from numpy import linalg\n",
    "import math"
   ]
  },
  {
   "cell_type": "code",
   "execution_count": 2,
   "metadata": {},
   "outputs": [],
   "source": [
    "FB = 500\n",
    "FC = 700\n",
    "AB = [2/7,-3/7,-6/7]\n",
    "AC = [3/7,2/7,-6/7]"
   ]
  },
  {
   "cell_type": "code",
   "execution_count": 3,
   "metadata": {},
   "outputs": [
    {
     "name": "stdout",
     "output_type": "stream",
     "text": [
      "F1: [ 0.28571429 -0.42857143 -0.85714286]\n",
      "F2: [ 0.42857143  0.28571429 -0.85714286]\n",
      "F1 + F2: [ 0.71428571 -0.14285714 -1.71428571]\n"
     ]
    }
   ],
   "source": [
    "F1 = np.array(AB)\n",
    "F2 = np.array(AC)\n",
    "print('F1:',F1)\n",
    "print('F2:',F2)\n",
    "print('F1 + F2:',F1+F2)"
   ]
  },
  {
   "cell_type": "code",
   "execution_count": 4,
   "metadata": {},
   "outputs": [
    {
     "name": "stdout",
     "output_type": "stream",
     "text": [
      "Fb_vec: [ 142.85714286 -214.28571429 -428.57142857]\n",
      "Fc_vec: [ 300.  200. -600.]\n",
      "Fr_vec: [  442.85714286   -14.28571429 -1028.57142857]\n"
     ]
    }
   ],
   "source": [
    "Fb_vec = 500*F1\n",
    "Fc_vec = 700*F2\n",
    "print('Fb_vec:',Fb_vec)\n",
    "print('Fc_vec:',Fc_vec)\n",
    "Fr_vec = Fb_vec + Fc_vec\n",
    "print(\"Fr_vec:\",Fr_vec)"
   ]
  },
  {
   "cell_type": "code",
   "execution_count": 6,
   "metadata": {},
   "outputs": [
    {
     "name": "stdout",
     "output_type": "stream",
     "text": [
      "Magnitude of Fr: 1119.9489784296934\n"
     ]
    }
   ],
   "source": [
    "print('Magnitude of Fr:',np.linalg.norm(Fr_vec))"
   ]
  },
  {
   "cell_type": "code",
   "execution_count": 13,
   "metadata": {},
   "outputs": [
    {
     "name": "stdout",
     "output_type": "stream",
     "text": [
      "Alpha: 66.70744372899628\n",
      "Beta: 90.73086662839268\n",
      "Gamma: 156.6946126090025\n"
     ]
    }
   ],
   "source": [
    "alpha = math.acos(Fr_vec[0]/np.linalg.norm(Fr_vec))\n",
    "beta = math.acos(Fr_vec[1]/np.linalg.norm(Fr_vec))\n",
    "gamma = math.acos(Fr_vec[2]/np.linalg.norm(Fr_vec))\n",
    "print('Alpha:', math.degrees(alpha))\n",
    "print('Beta:', math.degrees(beta))\n",
    "print('Gamma:', math.degrees(gamma))"
   ]
  },
  {
   "cell_type": "code",
   "execution_count": null,
   "metadata": {},
   "outputs": [],
   "source": []
  }
 ],
 "metadata": {
  "kernelspec": {
   "display_name": "Python 3",
   "language": "python",
   "name": "python3"
  },
  "language_info": {
   "codemirror_mode": {
    "name": "ipython",
    "version": 3
   },
   "file_extension": ".py",
   "mimetype": "text/x-python",
   "name": "python",
   "nbconvert_exporter": "python",
   "pygments_lexer": "ipython3",
   "version": "3.6.4"
  }
 },
 "nbformat": 4,
 "nbformat_minor": 2
}
